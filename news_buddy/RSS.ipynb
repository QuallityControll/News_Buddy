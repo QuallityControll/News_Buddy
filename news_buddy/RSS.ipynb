{
 "cells": [
  {
   "attachments": {},
   "cell_type": "markdown",
   "metadata": {},
   "source": [
    "# Notes on RSS\n",
    "\n",
    "RSS\n",
    "\n",
    "Really Simple syndication \n",
    "\n",
    "It is a type of web feed which allows users to access updates to online content in a standardized, computer-readable format\n",
    "\n",
    "It is a way to easily distribute a list of headlines, update notices, and sometimes content to a wide number of people. It is used by computer programs that organize those headlines and notices for easy reading.\n",
    " \n",
    "These feeds can, for example, allow a user to keep track of many different websites in a single news aggregator. The news aggregator will automatically check the RSS feed for new content, allowing the content to be automatically passed from website to website or from website to user. \n",
    "\n",
    "Subscribing to a website RSS removes the need for the user to manually check the website for new content. \n",
    "\n",
    "Provides basic info. Made up of a list of items presented in order from newest to oldest. Each item consists of a describing title with a more complete description and a link to to webpage describing the actual information\n",
    "\n",
    "Ex - \n",
    "Item 1:\t \n",
    "  -Title:\tSidewalk contract awarded\n",
    "  \n",
    "  -Description:\tThe city awarded the sidewalk contract to Smith Associates. This hotly contested deal is worth $1.2 million.\n",
    "  \n",
    "  -Link:\thttp://www.gardencitynews.com/contractawards/sidewalk.htm\n",
    "  \n",
    "Item 2:\t \n",
    "  -Title:\tGovernor to visit\n",
    "  \n",
    "  -Description:\tThe governor is scheduled to visit the city on July 1st. This is the first visit since the election two years ago. The mayor is planning a big reception.\n",
    "  \n",
    "  -Link:\thttp://www.gardencitynews.com/news/2004/06/gov-visit.htm\n",
    "\n",
    "RSS aggregator is a web broweer for RSS content, they check RSS feeds for new items on an ongoing basis - so you don’t have to go through them."
   ]
  },
  {
   "cell_type": "code",
   "execution_count": 30,
   "metadata": {
    "collapsed": true
   },
   "outputs": [],
   "source": [
    "import matplotlib.pyplot as plt\n",
    "import matplotlib.image as mpimg\n",
    "import numpy as np\n",
    "%matplotlib inline"
   ]
  },
  {
   "cell_type": "code",
   "execution_count": 32,
   "metadata": {},
   "outputs": [
    {
     "name": "stdout",
     "output_type": "stream",
     "text": [
      "image below shows how websites, RSS feed and your personal computer are connected\n"
     ]
    },
    {
     "data": {
      "image/png": "[encoded data removed]",
      "text/plain": [
       "<matplotlib.figure.Figure at 0x11ba41d30>"
      ]
     },
     "metadata": {},
     "output_type": "display_data"
    }
   ],
   "source": [
    "img=mpimg.imread(\"/Users/sanjanacheerla/image1 2.jpeg\")\n",
    "imgplot = plt.imshow(img)\n",
    "print(\"image below shows how websites, RSS feed and your personal computer are connected\")"
   ]
  },
  {
   "cell_type": "code",
   "execution_count": null,
   "metadata": {
    "collapsed": true
   },
   "outputs": [],
   "source": []
  }
 ],
 "metadata": {
  "kernelspec": {
   "display_name": "Python 3",
   "language": "python",
   "name": "python3"
  },
  "language_info": {
   "codemirror_mode": {
    "name": "ipython",
    "version": 3
   },
   "file_extension": ".py",
   "mimetype": "text/x-python",
   "name": "python",
   "nbconvert_exporter": "python",
   "pygments_lexer": "ipython3",
   "version": "3.6.1"
  }
 },
 "nbformat": 4,
 "nbformat_minor": 2
}
